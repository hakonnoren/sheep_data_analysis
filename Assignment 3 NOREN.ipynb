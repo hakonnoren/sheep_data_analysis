{
 "cells": [
  {
   "cell_type": "code",
   "execution_count": 1,
   "metadata": {},
   "outputs": [
    {
     "name": "stderr",
     "output_type": "stream",
     "text": [
      "Warning message:\n",
      "\"package 'tree' was built under R version 3.6.3\"\n",
      "Warning message:\n",
      "\"package 'GGally' was built under R version 3.6.3\"\n",
      "Loading required package: ggplot2\n",
      "\n",
      "Warning message:\n",
      "\"package 'ggplot2' was built under R version 3.6.3\"\n",
      "Registered S3 method overwritten by 'cli':\n",
      "  method     from\n",
      "  print.tree tree\n",
      "\n",
      "Registered S3 method overwritten by 'GGally':\n",
      "  method from   \n",
      "  +.gg   ggplot2\n",
      "\n",
      "Warning message:\n",
      "\"package 'plyr' was built under R version 3.6.3\"\n",
      "Warning message:\n",
      "\"package 'Rfast' was built under R version 3.6.3\"\n",
      "Loading required package: Rcpp\n",
      "\n",
      "Warning message:\n",
      "\"package 'Rcpp' was built under R version 3.6.3\"\n",
      "Loading required package: RcppZiggurat\n",
      "\n",
      "Warning message:\n",
      "\"package 'RcppZiggurat' was built under R version 3.6.2\"\n",
      "Warning message:\n",
      "\"package 'ggpubr' was built under R version 3.6.3\"\n",
      "Loading required package: magrittr\n",
      "\n",
      "Warning message:\n",
      "\"package 'magrittr' was built under R version 3.6.2\"\n",
      "\n",
      "Attaching package: 'ggpubr'\n",
      "\n",
      "\n",
      "The following object is masked from 'package:plyr':\n",
      "\n",
      "    mutate\n",
      "\n",
      "\n",
      "Warning message:\n",
      "\"package 'ggfortify' was built under R version 3.6.3\"\n"
     ]
    }
   ],
   "source": [
    "library(tree)\n",
    "library(GGally)\n",
    "library(ggplot2)\n",
    "library(plyr)\n",
    "library(Rfast)\n",
    "library(ggpubr)\n",
    "library(ggpubr)\n",
    "library(ggfortify)"
   ]
  },
  {
   "cell_type": "markdown",
   "metadata": {},
   "source": [
    "## Content\n",
    "\n",
    "\n",
    " 1. Introduction  \n",
    "   1.1 Problem and method  \n",
    "   1.2 Hypothesis  \n",
    "   1.3 Brief introduction to the life of a lamb  \n",
    " 2. Dataset  \n",
    "   2.1 Row description  \n",
    "   2.2 Missing data  \n",
    " 3. Analysis  \n",
    "   3.1 Analysis focusing on lambs  \n",
    "     3.1.1 Exploratory data analysis  \n",
    "     3.1.2 ANOVA  \n",
    "     3.1.2 Principal component analysis  \n",
    "   3.2 Analysis focusing on ewes\n",
    " 4. Conclusion  \n",
    "     \n",
    "     \n",
    "\n",
    "\n",
    "# 1 Introduction\n",
    "\n",
    "This report presents a study of a dataset from a sheep farm recorded between year 2000 to 2013. This particular farm, *Leirmo*, was in fact run by the authors parents. The weight of $n_{lambs} = 796$ lambs have been registered at multiple times per season, but the data set also includes some additional information. The aim of this report is to do inference on which factors affects the production of the sheep farm. By production we mean the quality and quantity of meat at the time of slaughtering.\n",
    "\n",
    "## 1.1 Problem\n",
    "\n",
    "A sheep farmer is confronted with multiple descisions over the course of a year, descisions that on both long and short term could have an impact on the production of the farm. On long term, maybe the most important question is which female lambs should be sent to the slaugther and which should be selected for further breeding. Other descisions are how long the sheep should graze in the mountains before they are brought back to the farm and when they should be sent for slaughter. \n",
    "\n",
    "Hence the statistical analysis will be performed from two different perspectives. Firstly inference with regards to the lambs. Which properties of the lambs determine their weight and the quality of their meat? Secondly with regards to the female sheep, the mother of the lambs, or more correctly the *ewe*. How does the properties of the ewe determine the weight of her lambs?\n",
    "\n",
    "## 1.2 Hypothesis\n",
    "\n",
    "Based on insight and the experience of the parents of the authors, the following relations are proposed as hypothesis for this report:\n",
    "\n",
    "1. The ram lambs are in general heavier than the ewe lambs.\n",
    "2. More siblings means lighter lambs, hence single lambs are more heavier than lambs with two siblings.\n",
    "\n",
    "In general, traits are inherited: \n",
    "\n",
    "3. Heavy ewes will have heavier lambs.\n",
    "\n",
    "## 1.3 Brief introduction to the life of a lamb\n",
    "\n",
    "Some insight into the life of a lamb at the Leirmo farm is useful, if not neccessary to fully understand the dataset and the following analysis. It all begins with the breeding taking place around november. Most commonly a male sheep, or a ram, is bought from another farm and is kept for breeding a couple of years before a new is introduced, in order to ensure sufficient genetic variety. Around mid May the lambs are born and are fed with milk from their respective ewe. Gradually the lambs learn to consume grass and mid June they are released to graze in a mountain area untill they are collected around mid september. They will now graze on a field close to the farm before they are kept and fed in the barn. Finally the lambs that have a sufficient weight will be sent to slaughter around October / November, while the rest will either be fed for a couple additional weeks or be selected for breeding."
   ]
  },
  {
   "cell_type": "markdown",
   "metadata": {},
   "source": [
    "# 2 Dataset\n",
    "\n",
    "The original dataset was stored as an .xls file with sheets looking like the one below, containing some of the data from 2004.\n",
    "\n",
    "<img src=\"sheep_original_example.png\" alt=\"drawing\" width=\"600\"/>\n",
    "\n",
    "After cleaning the data, combining the different years, and restructuring the columns, obtain the following dataset"
   ]
  },
  {
   "cell_type": "code",
   "execution_count": 2,
   "metadata": {},
   "outputs": [
    {
     "data": {
      "text/html": [
       "<table>\n",
       "<caption>A data.frame: 5 × 14</caption>\n",
       "<thead>\n",
       "\t<tr><th></th><th scope=col>year</th><th scope=col>id_mother</th><th scope=col>id_lamb</th><th scope=col>num_siblings</th><th scope=col>gender</th><th scope=col>saft</th><th scope=col>weight_spring</th><th scope=col>date_spring</th><th scope=col>weight_fall_I</th><th scope=col>date_fall_I</th><th scope=col>weight_fall_II</th><th scope=col>date_fall_II</th><th scope=col>weight_slaugther</th><th scope=col>slaugther_class</th></tr>\n",
       "\t<tr><th></th><th scope=col>&lt;int&gt;</th><th scope=col>&lt;int&gt;</th><th scope=col>&lt;int&gt;</th><th scope=col>&lt;int&gt;</th><th scope=col>&lt;fct&gt;</th><th scope=col>&lt;fct&gt;</th><th scope=col>&lt;dbl&gt;</th><th scope=col>&lt;int&gt;</th><th scope=col>&lt;int&gt;</th><th scope=col>&lt;int&gt;</th><th scope=col>&lt;dbl&gt;</th><th scope=col>&lt;int&gt;</th><th scope=col>&lt;dbl&gt;</th><th scope=col>&lt;int&gt;</th></tr>\n",
       "</thead>\n",
       "<tbody>\n",
       "\t<tr><th scope=row>334</th><td>2006</td><td> 4012</td><td>6039</td><td>2</td><td>S</td><td>s</td><td>18</td><td>38887</td><td>40</td><td>38970</td><td>46</td><td>40097</td><td>17.5</td><td> 6</td></tr>\n",
       "\t<tr><th scope=row>496</th><td>2008</td><td> 6059</td><td>8019</td><td>2</td><td>V</td><td>s</td><td>15</td><td>39617</td><td>39</td><td>39712</td><td>43</td><td>39734</td><td>16.1</td><td> 6</td></tr>\n",
       "\t<tr><th scope=row>277</th><td>2005</td><td> 2113</td><td>5017</td><td>2</td><td>V</td><td>s</td><td>23</td><td>38530</td><td>44</td><td>38612</td><td>54</td><td>38634</td><td>21.4</td><td> 7</td></tr>\n",
       "\t<tr><th scope=row>489</th><td>2008</td><td> 6040</td><td>8046</td><td>2</td><td>S</td><td>s</td><td>16</td><td>39617</td><td>44</td><td>39712</td><td>46</td><td>39734</td><td>18.6</td><td> 8</td></tr>\n",
       "\t<tr><th scope=row>795</th><td>2013</td><td>10042</td><td>3009</td><td>2</td><td>V</td><td>s</td><td>NA</td><td>   NA</td><td>40</td><td>41538</td><td>43</td><td>41559</td><td>  NA</td><td>NA</td></tr>\n",
       "</tbody>\n",
       "</table>\n"
      ],
      "text/latex": [
       "A data.frame: 5 × 14\n",
       "\\begin{tabular}{r|llllllllllllll}\n",
       "  & year & id\\_mother & id\\_lamb & num\\_siblings & gender & saft & weight\\_spring & date\\_spring & weight\\_fall\\_I & date\\_fall\\_I & weight\\_fall\\_II & date\\_fall\\_II & weight\\_slaugther & slaugther\\_class\\\\\n",
       "  & <int> & <int> & <int> & <int> & <fct> & <fct> & <dbl> & <int> & <int> & <int> & <dbl> & <int> & <dbl> & <int>\\\\\n",
       "\\hline\n",
       "\t334 & 2006 &  4012 & 6039 & 2 & S & s & 18 & 38887 & 40 & 38970 & 46 & 40097 & 17.5 &  6\\\\\n",
       "\t496 & 2008 &  6059 & 8019 & 2 & V & s & 15 & 39617 & 39 & 39712 & 43 & 39734 & 16.1 &  6\\\\\n",
       "\t277 & 2005 &  2113 & 5017 & 2 & V & s & 23 & 38530 & 44 & 38612 & 54 & 38634 & 21.4 &  7\\\\\n",
       "\t489 & 2008 &  6040 & 8046 & 2 & S & s & 16 & 39617 & 44 & 39712 & 46 & 39734 & 18.6 &  8\\\\\n",
       "\t795 & 2013 & 10042 & 3009 & 2 & V & s & NA &    NA & 40 & 41538 & 43 & 41559 &   NA & NA\\\\\n",
       "\\end{tabular}\n"
      ],
      "text/markdown": [
       "\n",
       "A data.frame: 5 × 14\n",
       "\n",
       "| <!--/--> | year &lt;int&gt; | id_mother &lt;int&gt; | id_lamb &lt;int&gt; | num_siblings &lt;int&gt; | gender &lt;fct&gt; | saft &lt;fct&gt; | weight_spring &lt;dbl&gt; | date_spring &lt;int&gt; | weight_fall_I &lt;int&gt; | date_fall_I &lt;int&gt; | weight_fall_II &lt;dbl&gt; | date_fall_II &lt;int&gt; | weight_slaugther &lt;dbl&gt; | slaugther_class &lt;int&gt; |\n",
       "|---|---|---|---|---|---|---|---|---|---|---|---|---|---|---|\n",
       "| 334 | 2006 |  4012 | 6039 | 2 | S | s | 18 | 38887 | 40 | 38970 | 46 | 40097 | 17.5 |  6 |\n",
       "| 496 | 2008 |  6059 | 8019 | 2 | V | s | 15 | 39617 | 39 | 39712 | 43 | 39734 | 16.1 |  6 |\n",
       "| 277 | 2005 |  2113 | 5017 | 2 | V | s | 23 | 38530 | 44 | 38612 | 54 | 38634 | 21.4 |  7 |\n",
       "| 489 | 2008 |  6040 | 8046 | 2 | S | s | 16 | 39617 | 44 | 39712 | 46 | 39734 | 18.6 |  8 |\n",
       "| 795 | 2013 | 10042 | 3009 | 2 | V | s | NA |    NA | 40 | 41538 | 43 | 41559 |   NA | NA |\n",
       "\n"
      ],
      "text/plain": [
       "    year id_mother id_lamb num_siblings gender saft weight_spring date_spring\n",
       "334 2006  4012     6039    2            S      s    18            38887      \n",
       "496 2008  6059     8019    2            V      s    15            39617      \n",
       "277 2005  2113     5017    2            V      s    23            38530      \n",
       "489 2008  6040     8046    2            S      s    16            39617      \n",
       "795 2013 10042     3009    2            V      s    NA               NA      \n",
       "    weight_fall_I date_fall_I weight_fall_II date_fall_II weight_slaugther\n",
       "334 40            38970       46             40097        17.5            \n",
       "496 39            39712       43             39734        16.1            \n",
       "277 44            38612       54             38634        21.4            \n",
       "489 44            39712       46             39734        18.6            \n",
       "795 40            41538       43             41559          NA            \n",
       "    slaugther_class\n",
       "334  6             \n",
       "496  6             \n",
       "277  7             \n",
       "489  8             \n",
       "795 NA             "
      ]
     },
     "metadata": {},
     "output_type": "display_data"
    }
   ],
   "source": [
    "lamb = read.csv(\"sheep_data.csv\",sep = \";\",fileEncoding=\"UTF-8-BOM\",nrows=795,header=TRUE)\n",
    "lamb = lamb[,1:14]\n",
    "lamb[sample(795,5),]"
   ]
  },
  {
   "cell_type": "code",
   "execution_count": 3,
   "metadata": {},
   "outputs": [],
   "source": [
    "lamb$growth = (lamb$weight_fall_I - lamb$weight_spring)/(lamb$date_fall_I - lamb$date_spring)"
   ]
  },
  {
   "cell_type": "code",
   "execution_count": 4,
   "metadata": {},
   "outputs": [
    {
     "name": "stdout",
     "output_type": "stream",
     "text": [
      "[1] \"Years included in set_I\"\n"
     ]
    },
    {
     "data": {
      "text/html": [
       "<style>\n",
       ".list-inline {list-style: none; margin:0; padding: 0}\n",
       ".list-inline>li {display: inline-block}\n",
       ".list-inline>li:not(:last-child)::after {content: \"\\00b7\"; padding: 0 .5ex}\n",
       "</style>\n",
       "<ol class=list-inline><li>2000</li><li>2001</li><li>2002</li><li>2003</li><li>2004</li><li>2005</li><li>2006</li><li>2007</li><li>2008</li><li>2009</li></ol>\n",
       "\n",
       "<details>\n",
       "\t<summary style=display:list-item;cursor:pointer>\n",
       "\t\t<strong>Levels</strong>:\n",
       "\t</summary>\n",
       "\t<style>\n",
       "\t.list-inline {list-style: none; margin:0; padding: 0}\n",
       "\t.list-inline>li {display: inline-block}\n",
       "\t.list-inline>li:not(:last-child)::after {content: \"\\00b7\"; padding: 0 .5ex}\n",
       "\t</style>\n",
       "\t<ol class=list-inline><li>'2000'</li><li>'2001'</li><li>'2002'</li><li>'2003'</li><li>'2004'</li><li>'2005'</li><li>'2006'</li><li>'2007'</li><li>'2008'</li><li>'2009'</li></ol>\n",
       "</details>"
      ],
      "text/latex": [
       "\\begin{enumerate*}\n",
       "\\item 2000\n",
       "\\item 2001\n",
       "\\item 2002\n",
       "\\item 2003\n",
       "\\item 2004\n",
       "\\item 2005\n",
       "\\item 2006\n",
       "\\item 2007\n",
       "\\item 2008\n",
       "\\item 2009\n",
       "\\end{enumerate*}\n",
       "\n",
       "\\emph{Levels}: \\begin{enumerate*}\n",
       "\\item '2000'\n",
       "\\item '2001'\n",
       "\\item '2002'\n",
       "\\item '2003'\n",
       "\\item '2004'\n",
       "\\item '2005'\n",
       "\\item '2006'\n",
       "\\item '2007'\n",
       "\\item '2008'\n",
       "\\item '2009'\n",
       "\\end{enumerate*}\n"
      ],
      "text/markdown": [
       "1. 2000\n",
       "2. 2001\n",
       "3. 2002\n",
       "4. 2003\n",
       "5. 2004\n",
       "6. 2005\n",
       "7. 2006\n",
       "8. 2007\n",
       "9. 2008\n",
       "10. 2009\n",
       "\n",
       "\n",
       "\n",
       "**Levels**: 1. '2000'\n",
       "2. '2001'\n",
       "3. '2002'\n",
       "4. '2003'\n",
       "5. '2004'\n",
       "6. '2005'\n",
       "7. '2006'\n",
       "8. '2007'\n",
       "9. '2008'\n",
       "10. '2009'\n",
       "\n",
       "\n"
      ],
      "text/plain": [
       " [1] 2000 2001 2002 2003 2004 2005 2006 2007 2008 2009\n",
       "Levels: 2000 2001 2002 2003 2004 2005 2006 2007 2008 2009"
      ]
     },
     "metadata": {},
     "output_type": "display_data"
    },
    {
     "name": "stdout",
     "output_type": "stream",
     "text": [
      "[1] \"Number of observations in set_I\"\n"
     ]
    },
    {
     "data": {
      "text/html": [
       "425"
      ],
      "text/latex": [
       "425"
      ],
      "text/markdown": [
       "425"
      ],
      "text/plain": [
       "[1] 425"
      ]
     },
     "metadata": {},
     "output_type": "display_data"
    },
    {
     "name": "stdout",
     "output_type": "stream",
     "text": [
      "[1] \"Years included in set_II\"\n"
     ]
    },
    {
     "data": {
      "text/html": [
       "<style>\n",
       ".list-inline {list-style: none; margin:0; padding: 0}\n",
       ".list-inline>li {display: inline-block}\n",
       ".list-inline>li:not(:last-child)::after {content: \"\\00b7\"; padding: 0 .5ex}\n",
       "</style>\n",
       "<ol class=list-inline><li>2000</li><li>2001</li><li>2002</li><li>2003</li><li>2004</li><li>2005</li><li>2006</li><li>2007</li><li>2008</li><li>2009</li><li>2010</li></ol>\n",
       "\n",
       "<details>\n",
       "\t<summary style=display:list-item;cursor:pointer>\n",
       "\t\t<strong>Levels</strong>:\n",
       "\t</summary>\n",
       "\t<style>\n",
       "\t.list-inline {list-style: none; margin:0; padding: 0}\n",
       "\t.list-inline>li {display: inline-block}\n",
       "\t.list-inline>li:not(:last-child)::after {content: \"\\00b7\"; padding: 0 .5ex}\n",
       "\t</style>\n",
       "\t<ol class=list-inline><li>'2000'</li><li>'2001'</li><li>'2002'</li><li>'2003'</li><li>'2004'</li><li>'2005'</li><li>'2006'</li><li>'2007'</li><li>'2008'</li><li>'2009'</li><li>'2010'</li></ol>\n",
       "</details>"
      ],
      "text/latex": [
       "\\begin{enumerate*}\n",
       "\\item 2000\n",
       "\\item 2001\n",
       "\\item 2002\n",
       "\\item 2003\n",
       "\\item 2004\n",
       "\\item 2005\n",
       "\\item 2006\n",
       "\\item 2007\n",
       "\\item 2008\n",
       "\\item 2009\n",
       "\\item 2010\n",
       "\\end{enumerate*}\n",
       "\n",
       "\\emph{Levels}: \\begin{enumerate*}\n",
       "\\item '2000'\n",
       "\\item '2001'\n",
       "\\item '2002'\n",
       "\\item '2003'\n",
       "\\item '2004'\n",
       "\\item '2005'\n",
       "\\item '2006'\n",
       "\\item '2007'\n",
       "\\item '2008'\n",
       "\\item '2009'\n",
       "\\item '2010'\n",
       "\\end{enumerate*}\n"
      ],
      "text/markdown": [
       "1. 2000\n",
       "2. 2001\n",
       "3. 2002\n",
       "4. 2003\n",
       "5. 2004\n",
       "6. 2005\n",
       "7. 2006\n",
       "8. 2007\n",
       "9. 2008\n",
       "10. 2009\n",
       "11. 2010\n",
       "\n",
       "\n",
       "\n",
       "**Levels**: 1. '2000'\n",
       "2. '2001'\n",
       "3. '2002'\n",
       "4. '2003'\n",
       "5. '2004'\n",
       "6. '2005'\n",
       "7. '2006'\n",
       "8. '2007'\n",
       "9. '2008'\n",
       "10. '2009'\n",
       "11. '2010'\n",
       "\n",
       "\n"
      ],
      "text/plain": [
       " [1] 2000 2001 2002 2003 2004 2005 2006 2007 2008 2009 2010\n",
       "Levels: 2000 2001 2002 2003 2004 2005 2006 2007 2008 2009 2010"
      ]
     },
     "metadata": {},
     "output_type": "display_data"
    },
    {
     "name": "stdout",
     "output_type": "stream",
     "text": [
      "[1] \"Number of observations in set_II\"\n"
     ]
    },
    {
     "data": {
      "text/html": [
       "589"
      ],
      "text/latex": [
       "589"
      ],
      "text/markdown": [
       "589"
      ],
      "text/plain": [
       "[1] 589"
      ]
     },
     "metadata": {},
     "output_type": "display_data"
    }
   ],
   "source": [
    "vars_set_I = c(\"year\",\"num_siblings\",\"gender\",\"weight_spring\",\"weight_fall_I\",\"growth\",\"weight_slaugther\",\"slaugther_class\")\n",
    "set_I = lamb[complete.cases(lamb[,vars_set_I]),]\n",
    "set_I$year = as.factor(set_I$year)\n",
    "set_I$num_siblings = as.factor(set_I$num_siblings)\n",
    "set_I$slaugther_class = as.factor(set_I$slaugther_class)\n",
    "\n",
    "print(\"Years included in set_I\")\n",
    "unique(set_I$year)\n",
    "print(\"Number of observations in set_I\")\n",
    "dim(set_I)[1]\n",
    "\n",
    "vars_set_II = c(\"year\",\"num_siblings\",\"gender\",\"weight_spring\",\"weight_fall_I\",\"growth\")\n",
    "set_II = lamb[complete.cases(lamb[,vars_set_II]),]\n",
    "set_II$year = as.factor(set_II$year)\n",
    "set_II$num_siblings = as.factor(set_II$num_siblings)\n",
    "set_II$slaugther_class = as.factor(set_II$slaugther_class)\n",
    "\n",
    "\n",
    "print(\"Years included in set_II\")\n",
    "unique(set_II$year)\n",
    "print(\"Number of observations in set_II\")\n",
    "dim(set_II)[1]"
   ]
  },
  {
   "cell_type": "markdown",
   "metadata": {},
   "source": [
    "## 2.1 Row description\n",
    "\n",
    "Each row contains the registered data on one lamb. The columns represent the following\n",
    "\n",
    "- `year` is the year the data was recorded.\n",
    "- `id_mother` is the unique number on the eartag of the ewe.\n",
    "- `id_lamb` is the unique number on the eartag of the lamb.\n",
    "- `num_siblings` is the number of siblings of the lamb.\n",
    "- `gender` encodes the gender, where `V` is ram or male and `S` is female or ewe.\n",
    "- `saft` encodes what happens to the lamb. `s` : slaugther, `a` : selected for breeding, `f` : more feeding before slaugther, `t` : the lamb died / was lost on the mountain.\n",
    "- The whole lamb is weighed on three different times and registered in kilos in the columns `weight_spring`, `weight_fall_I` and `weight_fall_II`.\n",
    "- The dates when the weighing took place, represented by number of days since 01.01.1990 is given by `date_spring`, `date_fall_I` and `date_fall_II`.\n",
    "- `weight_slaugther` is the weight of the carcass, meaning the wool, head, intestines etc. is removed.\n",
    "- `slaugther_class` is an integer encoding of the *EUROP* classification<sup> [1](#europ)</sup>, where a larger number means larger and more convex, body-builder-like muscles. The encoding is given by: `1` : P-, `2` : P, `3` : P+, `4` : O-, `5` : O, `6` : O+, `7` : R-, `8` : R, `9`: R+.\n",
    "\n",
    "As we have the lamb weight at two different points in time we introduce the variable `growth` defined as\n",
    "\n",
    "$$\n",
    "\\text{growth} = \\frac{\\text{weight_fall_I}-\\text{weight_spring}}{\\text{date_fall_I}-\\text{date_spring}}\n",
    "$$\n",
    "\n",
    "which represents the daily weight gain of a lamb between the weighing at the spring and fall in the unit $\\frac{kg}{day}$\n",
    "\n",
    "\n",
    "<a name=\"europ\">1:</a> <a href=\"https://www.animalia.no/no/kjott--egg/klassifisering/klassifiseringshandboka/402s-smafe-klassebeskrivelser-7/\">Description of EUROP classes for sheep</a> animalia.no 2020\n",
    "\n",
    "## 2.2 Missing data\n",
    "\n",
    "To weigh 60 lambs is quite a task, and is a labour intensive form of data collection. That could help explain the holes in the table below. An `x` in the table represents that weighing took place that year, and was registered, at that specific time in the season. Hence we see that 2002, 2003 and 2010 - 2013 have incomplete dataset.\n",
    "\n",
    "|year|weight spring|weight fall I|weight fall II|weight slaughter|\n",
    "|---|---|---|---|---|\n",
    "|2000|x|x|x|x|\n",
    "|2001|x|x|x|x|\n",
    "|2002|x|x||x|\n",
    "|2003|x|x||x|\n",
    "|2004|x|x|x|x|\n",
    "|2005|x|x|x|x|\n",
    "|2006|x|x|x|x|\n",
    "|2007|x|x|x|x|\n",
    "|2008|x|x|x|x|\n",
    "|2009|x|x|x|x|\n",
    "|2010|x|x|x||\n",
    "|2011||x|x|x|\n",
    "|2012||x|||\n",
    "|2013||x|x|x|\n",
    "\n",
    "This covers the large pattern of missing data, however, for lambs who die or are lost in the mountain, or are selected for breeding we will also have missing data. The consequence of this is that the statistical analysis will have to depend on a subset of the data, depending on which variables that are studied."
   ]
  },
  {
   "cell_type": "markdown",
   "metadata": {},
   "source": [
    "# 3 Analysis\n",
    "\n",
    "\n",
    "## 3.1 Analysis focusing on lambs\n",
    "\n",
    "### 3.1.1 Exploratory data analysis\n",
    "\n",
    "Lets explore the data and start by studying a pair plot where we require that all rows are complete for a subset of the variables. We first require complete data for the variables (we know `year`,`num_siblings`,`gender` and `saft` are complete for all rows)\n",
    "\n",
    "- `weight_spring`\n",
    "- `weight_fall_I`\n",
    "- `weight_slaugther`\n",
    "- `slaugther_class`\n"
   ]
  },
  {
   "cell_type": "code",
   "execution_count": 5,
   "metadata": {},
   "outputs": [
    {
     "name": "stderr",
     "output_type": "stream",
     "text": [
      "`stat_bin()` using `bins = 30`. Pick better value with `binwidth`.\n",
      "\n",
      "`stat_bin()` using `bins = 30`. Pick better value with `binwidth`.\n",
      "\n",
      "`stat_bin()` using `bins = 30`. Pick better value with `binwidth`.\n",
      "\n",
      "`stat_bin()` using `bins = 30`. Pick better value with `binwidth`.\n",
      "\n",
      "`stat_bin()` using `bins = 30`. Pick better value with `binwidth`.\n",
      "\n",
      "`stat_bin()` using `bins = 30`. Pick better value with `binwidth`.\n",
      "\n",
      "`stat_bin()` using `bins = 30`. Pick better value with `binwidth`.\n",
      "\n",
      "`stat_bin()` using `bins = 30`. Pick better value with `binwidth`.\n",
      "\n",
      "`stat_bin()` using `bins = 30`. Pick better value with `binwidth`.\n",
      "\n",
      "`stat_bin()` using `bins = 30`. Pick better value with `binwidth`.\n",
      "\n",
      "`stat_bin()` using `bins = 30`. Pick better value with `binwidth`.\n",
      "\n",
      "`stat_bin()` using `bins = 30`. Pick better value with `binwidth`.\n",
      "\n",
      "`stat_bin()` using `bins = 30`. Pick better value with `binwidth`.\n",
      "\n",
      "`stat_bin()` using `bins = 30`. Pick better value with `binwidth`.\n",
      "\n",
      "`stat_bin()` using `bins = 30`. Pick better value with `binwidth`.\n",
      "\n",
      "`stat_bin()` using `bins = 30`. Pick better value with `binwidth`.\n",
      "\n"
     ]
    },
    {
     "data": {
      "image/png": "[encoded data removed]",
      "text/plain": [
       "plot without title"
      ]
     },
     "metadata": {
      "image/png": {
       "height": 420,
       "width": 420
      },
      "text/plain": {
       "height": 420,
       "width": 420
      }
     },
     "output_type": "display_data"
    }
   ],
   "source": [
    "ggpairs(set_I[,vars_set_I])"
   ]
  },
  {
   "cell_type": "markdown",
   "metadata": {},
   "source": [
    "We first notice that for the variables `weight_spring`, `weight_fall_I`, `growth`, `weight_slaugther` and `slaugther_class` we seem to have a normal distribution. In this subset we have an imbalance of the gender, as all ram lambs (`gender=V`) are sent for slaugther, while a subset of the ewe lambs (`gender=S`) are selected for breeding. A balanced dataset have to exclude the variables from the slaugthering or we would have to draw a random sample of the ram lambs.\n",
    "\n",
    "Furthermore we observe that all variables related to weight are correlated, as well as `slaugther_class`. As the last variable is a characterization of the shape of the lamb carcass, it is not unlikely that is correlated with weight. We also observe that `gender` and `num_siblings` seems to have an effect on the weight. It seems like the ewe lambs are lighter than the rams and that lambs with few siblings are heavier."
   ]
  },
  {
   "cell_type": "markdown",
   "metadata": {},
   "source": [
    "### 3.1.2 ANOVA\n",
    "\n",
    "For hypothesis 1 and 2 a two way ANOVA is suitable. We will study how `gender` and `num_siblings` could explain first `weight_fall_I` and then `growth`.\n",
    "\n",
    "We will now study the dataset `set_II` which has complete entries from year 2000 - 2010. Below we see that we have a fairly balanced distribution in terms of gender (except for the triplets), however for number of siblings there are many more twin lambs, than in the other populations. "
   ]
  },
  {
   "cell_type": "code",
   "execution_count": 6,
   "metadata": {},
   "outputs": [
    {
     "data": {
      "text/html": [
       "<table>\n",
       "<caption>A data.frame: 6 × 3</caption>\n",
       "<thead>\n",
       "\t<tr><th scope=col>num_siblings</th><th scope=col>gender</th><th scope=col>freq</th></tr>\n",
       "\t<tr><th scope=col>&lt;fct&gt;</th><th scope=col>&lt;fct&gt;</th><th scope=col>&lt;int&gt;</th></tr>\n",
       "</thead>\n",
       "<tbody>\n",
       "\t<tr><td>1</td><td>S</td><td> 42</td></tr>\n",
       "\t<tr><td>1</td><td>V</td><td> 52</td></tr>\n",
       "\t<tr><td>2</td><td>S</td><td>196</td></tr>\n",
       "\t<tr><td>2</td><td>V</td><td>200</td></tr>\n",
       "\t<tr><td>3</td><td>S</td><td> 60</td></tr>\n",
       "\t<tr><td>3</td><td>V</td><td> 39</td></tr>\n",
       "</tbody>\n",
       "</table>\n"
      ],
      "text/latex": [
       "A data.frame: 6 × 3\n",
       "\\begin{tabular}{lll}\n",
       " num\\_siblings & gender & freq\\\\\n",
       " <fct> & <fct> & <int>\\\\\n",
       "\\hline\n",
       "\t 1 & S &  42\\\\\n",
       "\t 1 & V &  52\\\\\n",
       "\t 2 & S & 196\\\\\n",
       "\t 2 & V & 200\\\\\n",
       "\t 3 & S &  60\\\\\n",
       "\t 3 & V &  39\\\\\n",
       "\\end{tabular}\n"
      ],
      "text/markdown": [
       "\n",
       "A data.frame: 6 × 3\n",
       "\n",
       "| num_siblings &lt;fct&gt; | gender &lt;fct&gt; | freq &lt;int&gt; |\n",
       "|---|---|---|\n",
       "| 1 | S |  42 |\n",
       "| 1 | V |  52 |\n",
       "| 2 | S | 196 |\n",
       "| 2 | V | 200 |\n",
       "| 3 | S |  60 |\n",
       "| 3 | V |  39 |\n",
       "\n"
      ],
      "text/plain": [
       "  num_siblings gender freq\n",
       "1 1            S       42 \n",
       "2 1            V       52 \n",
       "3 2            S      196 \n",
       "4 2            V      200 \n",
       "5 3            S       60 \n",
       "6 3            V       39 "
      ]
     },
     "metadata": {},
     "output_type": "display_data"
    }
   ],
   "source": [
    "distribution = count(set_II,vars=c(\"num_siblings\",\"gender\"))\n",
    "distribution\n",
    "distribution_years = count(set_II,vars=c(\"year\"))\n",
    "#distribution_years"
   ]
  },
  {
   "cell_type": "code",
   "execution_count": 7,
   "metadata": {},
   "outputs": [
    {
     "data": {
      "image/png": "[encoded data removed]",
      "text/plain": [
       "plot without title"
      ]
     },
     "metadata": {
      "image/png": {
       "height": 420,
       "width": 420
      },
      "text/plain": {
       "height": 420,
       "width": 420
      }
     },
     "output_type": "display_data"
    },
    {
     "data": {
      "image/png": "[encoded data removed]",
      "text/plain": [
       "plot without title"
      ]
     },
     "metadata": {
      "image/png": {
       "height": 420,
       "width": 420
      },
      "text/plain": {
       "height": 420,
       "width": 420
      }
     },
     "output_type": "display_data"
    },
    {
     "data": {
      "image/png": "[encoded data removed]",
      "text/plain": [
       "plot without title"
      ]
     },
     "metadata": {
      "image/png": {
       "height": 420,
       "width": 420
      },
      "text/plain": {
       "height": 420,
       "width": 420
      }
     },
     "output_type": "display_data"
    }
   ],
   "source": [
    "ggboxplot(set_II, x = \"num_siblings\", y = \"weight_fall_I\", color = \"gender\")\n",
    "ggboxplot(set_II, x = \"num_siblings\", y = \"growth\", color = \"gender\")\n",
    "\n",
    "ggboxplot(set_II, x = \"year\", y = \"growth\")"
   ]
  },
  {
   "cell_type": "markdown",
   "metadata": {},
   "source": [
    "The boxplots above seems to support our hypothesis. However, it is interesting to note how the difference in growth seems to be less significant between the different `num_siblings` populations. Lets proceed with a hypothesis test for both `weight_fall_I` and `growth`.\n",
    "\n",
    "**Lets first recall the principles behind a two factor ANOVA:**\n",
    "\n",
    "We could frame the problem as the following model\n",
    "\n",
    "$$\n",
    "\\begin{aligned}\n",
    "y_{ijk} &= \\mu + \\alpha_i + \\gamma_j + \\epsilon_{ijk} & i = 1,..,r, \\; j = 1,..,s, \\; k = 1,..,n_{ij}\n",
    "\\end{aligned}\n",
    "$$\n",
    "\n",
    "where $y$ is the predictor, $\\mu$ the global average, $\\alpha_i$ is the effect of the first treatment of level $i$, $\\gamma_j$ is the effect of the second treatment of level $j$ and finally $\\epsilon_{ijk}$ is the error for the individual sample. \n",
    "\n",
    "In our case we have $y = $ `weight_fall_I`, `growth`. If $\\alpha$ represents `gender`, then $r = 2$ and then $\\gamma$ represents `num_siblings` and $s = 3$. $n_{ij}$ is given by the table above. By introducing a suitable full rank design matrix $X$ we could write the model a the linear regression \n",
    "\n",
    "$$\n",
    "y = X\\beta + \\epsilon\n",
    "$$\n",
    "\n",
    "with $\\beta = [\\mu,\\alpha,\\gamma]^T$ where $\\alpha$ and $\\gamma$ are vectors. \n",
    "\n"
   ]
  },
  {
   "cell_type": "code",
   "execution_count": 8,
   "metadata": {},
   "outputs": [
    {
     "data": {
      "text/plain": [
       "\n",
       "Call:\n",
       "lm(formula = weight_fall_I ~ num_siblings + gender, data = set_II, \n",
       "    x = TRUE)\n",
       "\n",
       "Residuals:\n",
       "    Min      1Q  Median      3Q     Max \n",
       "-24.957  -3.174   0.172   3.826  18.404 \n",
       "\n",
       "Coefficients:\n",
       "              Estimate Std. Error t value Pr(>|t|)    \n",
       "(Intercept)    42.5961     0.6288  67.743  < 2e-16 ***\n",
       "num_siblings2  -2.7681     0.6396  -4.328 1.77e-05 ***\n",
       "num_siblings3  -6.9847     0.8057  -8.669  < 2e-16 ***\n",
       "genderV         4.3456     0.4613   9.420  < 2e-16 ***\n",
       "---\n",
       "Signif. codes:  0 '***' 0.001 '**' 0.01 '*' 0.05 '.' 0.1 ' ' 1\n",
       "\n",
       "Residual standard error: 5.572 on 585 degrees of freedom\n",
       "Multiple R-squared:  0.2394,\tAdjusted R-squared:  0.2355 \n",
       "F-statistic: 61.38 on 3 and 585 DF,  p-value: < 2.2e-16\n"
      ]
     },
     "metadata": {},
     "output_type": "display_data"
    },
    {
     "data": {
      "text/html": [
       "<table>\n",
       "<caption>A anova: 3 × 5</caption>\n",
       "<thead>\n",
       "\t<tr><th></th><th scope=col>Df</th><th scope=col>Sum Sq</th><th scope=col>Mean Sq</th><th scope=col>F value</th><th scope=col>Pr(&gt;F)</th></tr>\n",
       "\t<tr><th></th><th scope=col>&lt;int&gt;</th><th scope=col>&lt;dbl&gt;</th><th scope=col>&lt;dbl&gt;</th><th scope=col>&lt;dbl&gt;</th><th scope=col>&lt;dbl&gt;</th></tr>\n",
       "</thead>\n",
       "<tbody>\n",
       "\t<tr><th scope=row>num_siblings</th><td>  2</td><td> 2961.320</td><td>1480.66024</td><td>47.69746</td><td>6.463703e-20</td></tr>\n",
       "\t<tr><th scope=row>gender</th><td>  1</td><td> 2754.443</td><td>2754.44304</td><td>88.73064</td><td>1.033912e-19</td></tr>\n",
       "\t<tr><th scope=row>Residuals</th><td>585</td><td>18160.009</td><td>  31.04275</td><td>      NA</td><td>          NA</td></tr>\n",
       "</tbody>\n",
       "</table>\n"
      ],
      "text/latex": [
       "A anova: 3 × 5\n",
       "\\begin{tabular}{r|lllll}\n",
       "  & Df & Sum Sq & Mean Sq & F value & Pr(>F)\\\\\n",
       "  & <int> & <dbl> & <dbl> & <dbl> & <dbl>\\\\\n",
       "\\hline\n",
       "\tnum\\_siblings &   2 &  2961.320 & 1480.66024 & 47.69746 & 6.463703e-20\\\\\n",
       "\tgender &   1 &  2754.443 & 2754.44304 & 88.73064 & 1.033912e-19\\\\\n",
       "\tResiduals & 585 & 18160.009 &   31.04275 &       NA &           NA\\\\\n",
       "\\end{tabular}\n"
      ],
      "text/markdown": [
       "\n",
       "A anova: 3 × 5\n",
       "\n",
       "| <!--/--> | Df &lt;int&gt; | Sum Sq &lt;dbl&gt; | Mean Sq &lt;dbl&gt; | F value &lt;dbl&gt; | Pr(&gt;F) &lt;dbl&gt; |\n",
       "|---|---|---|---|---|---|\n",
       "| num_siblings |   2 |  2961.320 | 1480.66024 | 47.69746 | 6.463703e-20 |\n",
       "| gender |   1 |  2754.443 | 2754.44304 | 88.73064 | 1.033912e-19 |\n",
       "| Residuals | 585 | 18160.009 |   31.04275 |       NA |           NA |\n",
       "\n"
      ],
      "text/plain": [
       "             Df  Sum Sq    Mean Sq    F value  Pr(>F)      \n",
       "num_siblings   2  2961.320 1480.66024 47.69746 6.463703e-20\n",
       "gender         1  2754.443 2754.44304 88.73064 1.033912e-19\n",
       "Residuals    585 18160.009   31.04275       NA           NA"
      ]
     },
     "metadata": {},
     "output_type": "display_data"
    },
    {
     "data": {
      "text/plain": [
       "\n",
       "Call:\n",
       "lm(formula = growth ~ num_siblings + gender, data = set_II, x = TRUE)\n",
       "\n",
       "Residuals:\n",
       "      Min        1Q    Median        3Q       Max \n",
       "-0.181836 -0.021572  0.000595  0.025451  0.198730 \n",
       "\n",
       "Coefficients:\n",
       "               Estimate Std. Error t value Pr(>|t|)    \n",
       "(Intercept)    0.255708   0.004746  53.877  < 2e-16 ***\n",
       "num_siblings2 -0.012401   0.004828  -2.569   0.0105 *  \n",
       "num_siblings3 -0.030316   0.006082  -4.985 8.18e-07 ***\n",
       "genderV        0.033367   0.003482   9.582  < 2e-16 ***\n",
       "---\n",
       "Signif. codes:  0 '***' 0.001 '**' 0.01 '*' 0.05 '.' 0.1 ' ' 1\n",
       "\n",
       "Residual standard error: 0.04205 on 585 degrees of freedom\n",
       "Multiple R-squared:  0.1793,\tAdjusted R-squared:  0.175 \n",
       "F-statistic: 42.59 on 3 and 585 DF,  p-value: < 2.2e-16\n"
      ]
     },
     "metadata": {},
     "output_type": "display_data"
    },
    {
     "data": {
      "text/html": [
       "<table>\n",
       "<caption>A anova: 3 × 5</caption>\n",
       "<thead>\n",
       "\t<tr><th></th><th scope=col>Df</th><th scope=col>Sum Sq</th><th scope=col>Mean Sq</th><th scope=col>F value</th><th scope=col>Pr(&gt;F)</th></tr>\n",
       "\t<tr><th></th><th scope=col>&lt;int&gt;</th><th scope=col>&lt;dbl&gt;</th><th scope=col>&lt;dbl&gt;</th><th scope=col>&lt;dbl&gt;</th><th scope=col>&lt;dbl&gt;</th></tr>\n",
       "</thead>\n",
       "<tbody>\n",
       "\t<tr><th scope=row>num_siblings</th><td>  2</td><td>0.06357532</td><td>0.031787661</td><td>17.9733</td><td>2.659016e-08</td></tr>\n",
       "\t<tr><th scope=row>gender</th><td>  1</td><td>0.16239379</td><td>0.162393788</td><td>91.8203</td><td>2.672879e-20</td></tr>\n",
       "\t<tr><th scope=row>Residuals</th><td>585</td><td>1.03463356</td><td>0.001768604</td><td>     NA</td><td>          NA</td></tr>\n",
       "</tbody>\n",
       "</table>\n"
      ],
      "text/latex": [
       "A anova: 3 × 5\n",
       "\\begin{tabular}{r|lllll}\n",
       "  & Df & Sum Sq & Mean Sq & F value & Pr(>F)\\\\\n",
       "  & <int> & <dbl> & <dbl> & <dbl> & <dbl>\\\\\n",
       "\\hline\n",
       "\tnum\\_siblings &   2 & 0.06357532 & 0.031787661 & 17.9733 & 2.659016e-08\\\\\n",
       "\tgender &   1 & 0.16239379 & 0.162393788 & 91.8203 & 2.672879e-20\\\\\n",
       "\tResiduals & 585 & 1.03463356 & 0.001768604 &      NA &           NA\\\\\n",
       "\\end{tabular}\n"
      ],
      "text/markdown": [
       "\n",
       "A anova: 3 × 5\n",
       "\n",
       "| <!--/--> | Df &lt;int&gt; | Sum Sq &lt;dbl&gt; | Mean Sq &lt;dbl&gt; | F value &lt;dbl&gt; | Pr(&gt;F) &lt;dbl&gt; |\n",
       "|---|---|---|---|---|---|\n",
       "| num_siblings |   2 | 0.06357532 | 0.031787661 | 17.9733 | 2.659016e-08 |\n",
       "| gender |   1 | 0.16239379 | 0.162393788 | 91.8203 | 2.672879e-20 |\n",
       "| Residuals | 585 | 1.03463356 | 0.001768604 |      NA |           NA |\n",
       "\n"
      ],
      "text/plain": [
       "             Df  Sum Sq     Mean Sq     F value Pr(>F)      \n",
       "num_siblings   2 0.06357532 0.031787661 17.9733 2.659016e-08\n",
       "gender         1 0.16239379 0.162393788 91.8203 2.672879e-20\n",
       "Residuals    585 1.03463356 0.001768604      NA           NA"
      ]
     },
     "metadata": {},
     "output_type": "display_data"
    },
    {
     "data": {
      "text/plain": [
       "\n",
       "Call:\n",
       "lm(formula = growth ~ year, data = set_II, x = TRUE)\n",
       "\n",
       "Residuals:\n",
       "      Min        1Q    Median        3Q       Max \n",
       "-0.205390 -0.026099 -0.000204  0.026532  0.227642 \n",
       "\n",
       "Coefficients:\n",
       "             Estimate Std. Error t value Pr(>|t|)    \n",
       "(Intercept)  0.259072   0.001811 143.042  < 2e-16 ***\n",
       "year1        0.023241   0.006302   3.688 0.000247 ***\n",
       "year2        0.008071   0.006234   1.295 0.195946    \n",
       "year3        0.029235   0.006045   4.836 1.70e-06 ***\n",
       "year4       -0.013970   0.005821  -2.400 0.016712 *  \n",
       "year5       -0.008134   0.005719  -1.422 0.155477    \n",
       "year6        0.001090   0.005930   0.184 0.854172    \n",
       "year7        0.002235   0.005326   0.420 0.674867    \n",
       "year8       -0.033703   0.005446  -6.188 1.15e-09 ***\n",
       "year9        0.009132   0.004924   1.855 0.064129 .  \n",
       "year10       0.006673   0.005014   1.331 0.183774    \n",
       "---\n",
       "Signif. codes:  0 '***' 0.001 '**' 0.01 '*' 0.05 '.' 0.1 ' ' 1\n",
       "\n",
       "Residual standard error: 0.04325 on 578 degrees of freedom\n",
       "Multiple R-squared:  0.1425,\tAdjusted R-squared:  0.1276 \n",
       "F-statistic: 9.603 on 10 and 578 DF,  p-value: 6.895e-15\n"
      ]
     },
     "metadata": {},
     "output_type": "display_data"
    }
   ],
   "source": [
    "options(contrasts=c(\"contr.treatment\", \"contr.poly\"))\n",
    "model_w = lm(weight_fall_I ~ num_siblings + gender,data=set_II,x=TRUE)\n",
    "n = dim(model_w$model)[1]\n",
    "summary(model_w)\n",
    "anova(model_w)\n",
    "\n",
    "model_g = lm(growth ~ num_siblings + gender,data=set_II,x=TRUE)\n",
    "summary(model_g)\n",
    "anova(model_g)\n",
    "\n",
    "options(contrasts=c(\"contr.sum\", \"contr.poly\"))\n",
    "model_y = lm(growth ~ year,data=set_II,x=TRUE)\n",
    "summary(model_y)"
   ]
  },
  {
   "cell_type": "markdown",
   "metadata": {},
   "source": [
    "Given a significance level of the usual $\\alpha = 0.05$ we notice by observing the p-values in the print out from the linear regression  `Pr(>|t|)`, that all coefficients (of the different levels of the treatments) are significant individually. Meaning it is unlikely that the respective coefficients are zero. We notice that the p-value for `num_sibling2` when estimating `growth` is relatively larger than the rest, meaning that it is more likely that there is no difference in the growth between a single lamb and a twin. \n",
    "\n",
    "The p-values, `Pr(>F)`, from the ANOVA test says something about the likelihood of the effect in general, to be zero. For `num_siblings` it is a test of how likely it is that any number of siblings would yield a significant different `growth` or `weight_fall_I`. Again, we observe small p-values, meaning that it is unlikely that `num_siblings` or `gender` in general has no effect on growth or weight.\n",
    "\n",
    "By this analysis, the effects on the weight could be quite large. Notice that the base case is a single ewe, with weight given by the intercept. Comparing the expected weight in the fall of a triplet ewe with a single ram we have (by taking the values of the coefficients)\n",
    "\n",
    "$$\n",
    "\\begin{aligned}\n",
    "\\Delta w &=  w_{ram,n=1} - w_{ewe,n=3}\\\\\n",
    "&= 42.6 + 4.3 - (42.6 - 7.0)\\\\\n",
    "&= 11.3\n",
    "\\end{aligned}\n",
    "$$\n",
    "\n",
    "here all values are given in kg. Given this analysis and the dataset `set_II`, it seems likely that hypothesis 1 and 2 is true.\n",
    "\n",
    "As a bonus, for the interest reader, the same analysis was performed to see if there is any effect on growth between different years. And, in fact there is a significant difference in growth rate between some years. What could be the cause of this? That is an interesting question for further research."
   ]
  },
  {
   "cell_type": "markdown",
   "metadata": {},
   "source": [
    "### 3.1.2 Principal component analysis\n",
    "\n",
    "Principal component analysis utilizes the spectral theorem in order to find a transformation of the data matrix $X$ with diagonal covariance matrix with decreasing variances in the diagonal, and zero column wise mean. As the estimated covariance matrix is symmetric, we have the following decomposition\n",
    "\n",
    "$$\n",
    "S = U\\Lambda U^T\n",
    "$$\n",
    "\n",
    "where $U$ is the orthonormal eigenvectors of $S$ and with $\\Lambda$ having the respective eigenvalues in decreasing order on the diagonal. Let $\\mu$ be the column wise mean of the datamatrix $X$. We then have the principal components given by\n",
    "\n",
    "$$\n",
    "Z = U^T(X-\\mu)\n",
    "$$\n",
    "\n",
    "which will have the covariance  $Cov(Z) = \\Lambda$.\n",
    "\n",
    "Now why is this relevant for studying the lamb dataset? One could interpret the PCA as to provide new variables which are a linear combination of the old ones. Studying the two first new variables, or the *loadings* in the dataset, $u_1$ and $u_2$ an the corresponding tranformed data, or the *scores*, $z_1$ and $z_2$. By doing this we obtain a dimensionality reduction, and plotting the two loadings and the corresponding scores with the largest proportion of variance, we could explore relations between the original variables. Below, this is done in the biplot, where the loadings are plotted as labeled arrows, and the scores are labeled with the gender encoding together with the number of siblings."
   ]
  },
  {
   "cell_type": "code",
   "execution_count": 9,
   "metadata": {},
   "outputs": [],
   "source": [
    "label = paste(set_II$gender,as.character(set_II$num_siblings))"
   ]
  },
  {
   "cell_type": "code",
   "execution_count": 10,
   "metadata": {},
   "outputs": [
    {
     "data": {
      "text/html": [
       "<table>\n",
       "<caption>A matrix: 5 × 5 of type dbl</caption>\n",
       "<thead>\n",
       "\t<tr><th></th><th scope=col>PC1</th><th scope=col>PC2</th><th scope=col>PC3</th><th scope=col>PC4</th><th scope=col>PC5</th></tr>\n",
       "</thead>\n",
       "<tbody>\n",
       "\t<tr><th scope=row>num_siblings</th><td> 0.3024235</td><td> 0.71619361</td><td>-0.41067611</td><td>-0.47602645</td><td>-0.01872680</td></tr>\n",
       "\t<tr><th scope=row>weight_spring</th><td>-0.4497558</td><td>-0.30157840</td><td> 0.01054801</td><td>-0.76248934</td><td> 0.35393356</td></tr>\n",
       "\t<tr><th scope=row>weight_fall_I</th><td>-0.5844082</td><td> 0.03568631</td><td>-0.30916592</td><td>-0.02139614</td><td>-0.74910095</td></tr>\n",
       "\t<tr><th scope=row>gender</th><td>-0.3337499</td><td> 0.55844186</td><td> 0.75859687</td><td>-0.02530014</td><td>-0.02538524</td></tr>\n",
       "\t<tr><th scope=row>growth</th><td>-0.5033269</td><td> 0.28807352</td><td>-0.40022630</td><td> 0.43693356</td><td> 0.55909185</td></tr>\n",
       "</tbody>\n",
       "</table>\n"
      ],
      "text/latex": [
       "A matrix: 5 × 5 of type dbl\n",
       "\\begin{tabular}{r|lllll}\n",
       "  & PC1 & PC2 & PC3 & PC4 & PC5\\\\\n",
       "\\hline\n",
       "\tnum\\_siblings &  0.3024235 &  0.71619361 & -0.41067611 & -0.47602645 & -0.01872680\\\\\n",
       "\tweight\\_spring & -0.4497558 & -0.30157840 &  0.01054801 & -0.76248934 &  0.35393356\\\\\n",
       "\tweight\\_fall\\_I & -0.5844082 &  0.03568631 & -0.30916592 & -0.02139614 & -0.74910095\\\\\n",
       "\tgender & -0.3337499 &  0.55844186 &  0.75859687 & -0.02530014 & -0.02538524\\\\\n",
       "\tgrowth & -0.5033269 &  0.28807352 & -0.40022630 &  0.43693356 &  0.55909185\\\\\n",
       "\\end{tabular}\n"
      ],
      "text/markdown": [
       "\n",
       "A matrix: 5 × 5 of type dbl\n",
       "\n",
       "| <!--/--> | PC1 | PC2 | PC3 | PC4 | PC5 |\n",
       "|---|---|---|---|---|---|\n",
       "| num_siblings |  0.3024235 |  0.71619361 | -0.41067611 | -0.47602645 | -0.01872680 |\n",
       "| weight_spring | -0.4497558 | -0.30157840 |  0.01054801 | -0.76248934 |  0.35393356 |\n",
       "| weight_fall_I | -0.5844082 |  0.03568631 | -0.30916592 | -0.02139614 | -0.74910095 |\n",
       "| gender | -0.3337499 |  0.55844186 |  0.75859687 | -0.02530014 | -0.02538524 |\n",
       "| growth | -0.5033269 |  0.28807352 | -0.40022630 |  0.43693356 |  0.55909185 |\n",
       "\n"
      ],
      "text/plain": [
       "              PC1        PC2         PC3         PC4         PC5        \n",
       "num_siblings   0.3024235  0.71619361 -0.41067611 -0.47602645 -0.01872680\n",
       "weight_spring -0.4497558 -0.30157840  0.01054801 -0.76248934  0.35393356\n",
       "weight_fall_I -0.5844082  0.03568631 -0.30916592 -0.02139614 -0.74910095\n",
       "gender        -0.3337499  0.55844186  0.75859687 -0.02530014 -0.02538524\n",
       "growth        -0.5033269  0.28807352 -0.40022630  0.43693356  0.55909185"
      ]
     },
     "metadata": {},
     "output_type": "display_data"
    },
    {
     "name": "stdout",
     "output_type": "stream",
     "text": [
      "[1] \"Proportion of variance explained by pcomp 1 and 2:\"\n"
     ]
    },
    {
     "data": {
      "text/html": [
       "0.721998396031739"
      ],
      "text/latex": [
       "0.721998396031739"
      ],
      "text/markdown": [
       "0.721998396031739"
      ],
      "text/plain": [
       "[1] 0.7219984"
      ]
     },
     "metadata": {},
     "output_type": "display_data"
    },
    {
     "data": {
      "image/png": "[encoded data removed]",
      "text/plain": [
       "Plot with title \"Biplot\""
      ]
     },
     "metadata": {
      "image/png": {
       "height": 420,
       "width": 420
      },
      "text/plain": {
       "height": 420,
       "width": 420
      }
     },
     "output_type": "display_data"
    },
    {
     "data": {
      "image/png": "[encoded data removed]",
      "text/plain": [
       "plot without title"
      ]
     },
     "metadata": {
      "image/png": {
       "height": 420,
       "width": 420
      },
      "text/plain": {
       "height": 420,
       "width": 420
      }
     },
     "output_type": "display_data"
    },
    {
     "data": {
      "image/png": "[encoded data removed]",
      "text/plain": [
       "plot without title"
      ]
     },
     "metadata": {
      "image/png": {
       "height": 420,
       "width": 420
      },
      "text/plain": {
       "height": 420,
       "width": 420
      }
     },
     "output_type": "display_data"
    }
   ],
   "source": [
    "pca_var = c(\"num_siblings\",\"weight_spring\",\"weight_fall_I\",\"gender\",\"growth\")\n",
    "\n",
    "set_II$gender = as.integer(set_II$gender)\n",
    "set_II$num_siblings = as.integer(set_II$num_siblings)\n",
    "\n",
    "subset_PCA = set_II[,pca_var]\n",
    "pca = prcomp(subset_PCA,scale=TRUE)\n",
    "pca$rotation\n",
    "\n",
    "var = pca$sdev^2\n",
    "prop_var = var/sum(var)\n",
    "print(\"Proportion of variance explained by pcomp 1 and 2:\")\n",
    "sum(prop_var[1:2])\n",
    "\n",
    "\n",
    "biplot(pca,xlabs=label)\n",
    "title(\"Biplot\")\n",
    "plot(pca$x,col=subset_PCA$num_siblings,pch=20)\n",
    "legend(\"bottomright\", c(\"n siblings: 1\",\"n siblings: 2\",\"n siblings: 3\"),pch=20,col=c(\"black\",\"red\",\"green\"))\n",
    "plot(pca$x,col=subset_PCA$gender,pch=20)\n",
    "legend(\"bottomright\", c(\"S\",\"V\"),pch=20,col=c(\"black\",\"red\"))"
   ]
  },
  {
   "cell_type": "markdown",
   "metadata": {},
   "source": [
    "It seems like the first loading, given by the x-axis labeled PC1 is related to weight, as lambs with increasing weight and growth are found by going in negative direction of PC1. PC2 is not as easy to interpret, but seems to be related to other properties like gender and number of siblings.\n",
    "\n",
    "Not suprisingly we also see here that the rams have are more likely to be heavier than the ewes. A similar relationship holds for number of siblings, where more siblings increases the probability for lower weight. However, it is interesting to notice that `weight_spring` seems to be determined to a greater extent by `num_siblings` than `gender`. On the other hand, `growth` seems to be determined to a greater extent by `gender` and is less sensitive to `num_siblings`. "
   ]
  },
  {
   "cell_type": "markdown",
   "metadata": {},
   "source": [
    "## 3.2 Analysis focusing on ewes\n",
    "\n",
    "We will now examine if traits from the mothers of the lambs, the ewes, have an effect on the traits of the lambs. Below we produce an aggregated data set where each row represents an ewe. In contrast to the lamb dataset this dataset is not specific to a certain year. The columns represents the following\n",
    "\n",
    "- `nlamb` is the total number of lambs that the ewe has given birth to.\n",
    "- `num_as_lamb` is the number of number of siblings the ewe had growing up + 1.\n",
    "- `mean_num` is the average number of lambs the ewe has given birth to each season.\n",
    "- `weight_as_lamb` is the weight of the ewe as lamb, where the time of weight is chosen by the `weight_var`. \n",
    "- `growth_as_lamb` is the growth (as defined above) of the ewe as lamb.\n",
    "- `mean_weight` is the mean weight of the lambs of the respective ewe, where the time of weight is chosen by the `weight_var`. \n",
    "- `mean_growth` is the mean growth of the lambs of the ewe.\n",
    "\n",
    "Furthermore, due to missing data in the lamb set, we will also get missing data in this dataset. Below we select a subset with complete samples, denoted `sheep_complete` and furthermore we select a subset of ewes that have had more than two lambs. The final dataset we are analyzing is named `sheep_complete_mtwo`. "
   ]
  },
  {
   "cell_type": "code",
   "execution_count": 11,
   "metadata": {},
   "outputs": [
    {
     "name": "stdout",
     "output_type": "stream",
     "text": [
      "[1] \"Total number of ewes\"\n"
     ]
    },
    {
     "data": {
      "text/html": [
       "135"
      ],
      "text/latex": [
       "135"
      ],
      "text/markdown": [
       "135"
      ],
      "text/plain": [
       "[1] 135"
      ]
     },
     "metadata": {},
     "output_type": "display_data"
    },
    {
     "name": "stdout",
     "output_type": "stream",
     "text": [
      "[1] \"Total number of complete samples\"\n"
     ]
    },
    {
     "data": {
      "text/html": [
       "56"
      ],
      "text/latex": [
       "56"
      ],
      "text/markdown": [
       "56"
      ],
      "text/plain": [
       "[1] 56"
      ]
     },
     "metadata": {},
     "output_type": "display_data"
    },
    {
     "name": "stdout",
     "output_type": "stream",
     "text": [
      "[1] \"Total number of ewes with more than 2 lambs\"\n"
     ]
    },
    {
     "data": {
      "text/html": [
       "37"
      ],
      "text/latex": [
       "37"
      ],
      "text/markdown": [
       "37"
      ],
      "text/plain": [
       "[1] 37"
      ]
     },
     "metadata": {},
     "output_type": "display_data"
    },
    {
     "data": {
      "text/html": [
       "<table>\n",
       "<caption>A data.frame: 5 × 8</caption>\n",
       "<thead>\n",
       "\t<tr><th></th><th scope=col>id</th><th scope=col>nlamb</th><th scope=col>mean_weight</th><th scope=col>weight_as_lamb</th><th scope=col>growth_as_lamb</th><th scope=col>mean_growth</th><th scope=col>mean_num</th><th scope=col>num_as_lamb</th></tr>\n",
       "\t<tr><th></th><th scope=col>&lt;int&gt;</th><th scope=col>&lt;int&gt;</th><th scope=col>&lt;dbl&gt;</th><th scope=col>&lt;dbl&gt;</th><th scope=col>&lt;dbl&gt;</th><th scope=col>&lt;dbl&gt;</th><th scope=col>&lt;dbl&gt;</th><th scope=col>&lt;dbl&gt;</th></tr>\n",
       "</thead>\n",
       "<tbody>\n",
       "\t<tr><th scope=row>63</th><td>4012</td><td>10</td><td>41.30000</td><td>45</td><td>0.2804878</td><td>0.2590523</td><td>2.000000</td><td>2</td></tr>\n",
       "\t<tr><th scope=row>54</th><td>2123</td><td> 7</td><td>43.42857</td><td>48</td><td>0.2912621</td><td>0.2708903</td><td>1.857143</td><td>2</td></tr>\n",
       "\t<tr><th scope=row>37</th><td>1056</td><td> 5</td><td>37.60000</td><td>42</td><td>0.2692308</td><td>0.2272014</td><td>1.800000</td><td>2</td></tr>\n",
       "\t<tr><th scope=row>47</th><td>2105</td><td>11</td><td>39.27273</td><td>50</td><td>0.3106796</td><td>0.2467756</td><td>2.090909</td><td>2</td></tr>\n",
       "\t<tr><th scope=row>34</th><td>1044</td><td>10</td><td>45.50000</td><td>42</td><td>0.2948718</td><td>0.2750852</td><td>1.800000</td><td>2</td></tr>\n",
       "</tbody>\n",
       "</table>\n"
      ],
      "text/latex": [
       "A data.frame: 5 × 8\n",
       "\\begin{tabular}{r|llllllll}\n",
       "  & id & nlamb & mean\\_weight & weight\\_as\\_lamb & growth\\_as\\_lamb & mean\\_growth & mean\\_num & num\\_as\\_lamb\\\\\n",
       "  & <int> & <int> & <dbl> & <dbl> & <dbl> & <dbl> & <dbl> & <dbl>\\\\\n",
       "\\hline\n",
       "\t63 & 4012 & 10 & 41.30000 & 45 & 0.2804878 & 0.2590523 & 2.000000 & 2\\\\\n",
       "\t54 & 2123 &  7 & 43.42857 & 48 & 0.2912621 & 0.2708903 & 1.857143 & 2\\\\\n",
       "\t37 & 1056 &  5 & 37.60000 & 42 & 0.2692308 & 0.2272014 & 1.800000 & 2\\\\\n",
       "\t47 & 2105 & 11 & 39.27273 & 50 & 0.3106796 & 0.2467756 & 2.090909 & 2\\\\\n",
       "\t34 & 1044 & 10 & 45.50000 & 42 & 0.2948718 & 0.2750852 & 1.800000 & 2\\\\\n",
       "\\end{tabular}\n"
      ],
      "text/markdown": [
       "\n",
       "A data.frame: 5 × 8\n",
       "\n",
       "| <!--/--> | id &lt;int&gt; | nlamb &lt;int&gt; | mean_weight &lt;dbl&gt; | weight_as_lamb &lt;dbl&gt; | growth_as_lamb &lt;dbl&gt; | mean_growth &lt;dbl&gt; | mean_num &lt;dbl&gt; | num_as_lamb &lt;dbl&gt; |\n",
       "|---|---|---|---|---|---|---|---|---|\n",
       "| 63 | 4012 | 10 | 41.30000 | 45 | 0.2804878 | 0.2590523 | 2.000000 | 2 |\n",
       "| 54 | 2123 |  7 | 43.42857 | 48 | 0.2912621 | 0.2708903 | 1.857143 | 2 |\n",
       "| 37 | 1056 |  5 | 37.60000 | 42 | 0.2692308 | 0.2272014 | 1.800000 | 2 |\n",
       "| 47 | 2105 | 11 | 39.27273 | 50 | 0.3106796 | 0.2467756 | 2.090909 | 2 |\n",
       "| 34 | 1044 | 10 | 45.50000 | 42 | 0.2948718 | 0.2750852 | 1.800000 | 2 |\n",
       "\n"
      ],
      "text/plain": [
       "   id   nlamb mean_weight weight_as_lamb growth_as_lamb mean_growth mean_num\n",
       "63 4012 10    41.30000    45             0.2804878      0.2590523   2.000000\n",
       "54 2123  7    43.42857    48             0.2912621      0.2708903   1.857143\n",
       "37 1056  5    37.60000    42             0.2692308      0.2272014   1.800000\n",
       "47 2105 11    39.27273    50             0.3106796      0.2467756   2.090909\n",
       "34 1044 10    45.50000    42             0.2948718      0.2750852   1.800000\n",
       "   num_as_lamb\n",
       "63 2          \n",
       "54 2          \n",
       "37 2          \n",
       "47 2          \n",
       "34 2          "
      ]
     },
     "metadata": {},
     "output_type": "display_data"
    }
   ],
   "source": [
    "sheep_index = unique(lamb$id_mother)\n",
    "s = length(sheep_index)\n",
    "sheep = data.frame(id = sheep_index,nlamb=integer(s),mean_weight=double(s),weight_as_lamb=double(s),growth_as_lamb=double(s),mean_growth=double(s),mean_num=double(s),num_as_lamb=double(s))\n",
    "weight_var = \"weight_fall_I\"\n",
    "\n",
    "\n",
    "for (i in 1:s) {\n",
    "    \n",
    "    index = which(lamb$id_mother == sheep_index[i])\n",
    "    nlamb = length(index)\n",
    "    as_lamb_index = which(lamb$id_lamb == sheep_index[i])\n",
    "    num = count(lamb[index,],vars=\"num_siblings\")\n",
    "\n",
    "    sheep$nlamb[i] = nlamb\n",
    "    sheep$num_as_lamb[i] = lamb[as_lamb_index[1],\"num_siblings\"]\n",
    "    sheep$mean_num[i]=sum(num[,2]*num[,1])/length(index)\n",
    "    sheep$weight_as_lamb[i] = lamb[as_lamb_index[1],weight_var]\n",
    "    sheep$growth_as_lamb[i] = lamb[as_lamb_index[1],\"growth\"]\n",
    "    sheep$mean_weight[i] = mean(lamb[index,weight_var])\n",
    "    sheep$mean_growth[i] = mean(lamb[index,\"growth\"])\n",
    "}\n",
    "\n",
    "vars = c(\"nlamb\",\"num_as_lamb\",\"mean_num\",\"weight_as_lamb\",\"mean_weight\",\"growth_as_lamb\",\"mean_growth\")\n",
    "\n",
    "print(\"Total number of ewes\")\n",
    "length(sheep_index)\n",
    "\n",
    "sheep_complete = sheep[complete.cases(sheep),]\n",
    "print(\"Total number of complete samples\")\n",
    "dim(sheep_complete)[1]\n",
    "\n",
    "print(\"Total number of ewes with more than 2 lambs\")\n",
    "sheep_complete_mtwo = sheep_complete[sheep_complete$nlamb > 2,]\n",
    "dim(sheep_complete_mtwo)[1]\n",
    "\n",
    "sheep_complete_mtwo[sample(20,5),]"
   ]
  },
  {
   "cell_type": "code",
   "execution_count": 12,
   "metadata": {},
   "outputs": [
    {
     "data": {
      "text/plain": [
       "\n",
       "Call:\n",
       "lm(formula = mean_weight ~ weight_as_lamb + growth_as_lamb, data = sheep_complete_mtwo)\n",
       "\n",
       "Residuals:\n",
       "    Min      1Q  Median      3Q     Max \n",
       "-6.4312 -1.8233 -0.5612  2.2102  7.4693 \n",
       "\n",
       "Coefficients:\n",
       "               Estimate Std. Error t value Pr(>|t|)    \n",
       "(Intercept)     43.6738     5.8988   7.404 1.38e-08 ***\n",
       "weight_as_lamb  -0.4357     0.1595  -2.731  0.00993 ** \n",
       "growth_as_lamb  60.6751    21.3928   2.836  0.00764 ** \n",
       "---\n",
       "Signif. codes:  0 '***' 0.001 '**' 0.01 '*' 0.05 '.' 0.1 ' ' 1\n",
       "\n",
       "Residual standard error: 3.056 on 34 degrees of freedom\n",
       "Multiple R-squared:  0.2228,\tAdjusted R-squared:  0.177 \n",
       "F-statistic: 4.872 on 2 and 34 DF,  p-value: 0.01379\n"
      ]
     },
     "metadata": {},
     "output_type": "display_data"
    },
    {
     "data": {
      "image/png": "[encoded data removed]",
      "text/plain": [
       "plot without title"
      ]
     },
     "metadata": {
      "image/png": {
       "height": 420,
       "width": 420
      },
      "text/plain": {
       "height": 420,
       "width": 420
      }
     },
     "output_type": "display_data"
    }
   ],
   "source": [
    "sheep_complete_mtwo$num_as_lamb = as.factor(sheep_complete_mtwo$num_as_lamb)\n",
    "ggpairs(sheep_complete_mtwo[,vars])\n",
    "\n",
    "lm1 = lm(mean_weight ~ weight_as_lamb + growth_as_lamb,data =sheep_complete_mtwo)\n",
    "summary(lm1)\n",
    "autoplot(lm1)[1:2]"
   ]
  },
  {
   "cell_type": "markdown",
   "metadata": {},
   "source": [
    "Above, we use a linear regression model aiming at exploring if there is a relation between the `mean_weight` of the lambs of an ewe and her `weight_as_lamb` and `growth_as_lamb`. The regression is conducted on the `sheep_complete_mtwo` dataset with $n=37$ ewes. \n",
    "\n",
    "For a linear regression model \n",
    "\n",
    "$$\n",
    "y = X\\beta + \\epsilon\n",
    "$$\n",
    "\n",
    "where $y,\\beta,\\epsilon$ are vectors, we have, in order to make inference, the following assupmtions has to hold\n",
    "\n",
    "1. The residuals $\\epsilon_i$ are identically normally distributed with $E[\\epsilon_i] = 0$ and $Var[\\epsilon_i] = \\sigma^2$\n",
    "2. The elements $\\epsilon_i$ are independent.\n",
    "\n",
    "In the Turkey-Anscombe plot (Residuals VS Fitted) we can check if the residuals have identical distributions, and if the mean is zero. This seems to hold fairly well. Furthermore the qq-plot is used to check if the residuals follow a normal distribution. The distribution of the residuals is plotted agains a theoretical normal distribution. Again, this also seems to hold fairly well, however we notice some deviation in the left tail of the distribution of the residuals. \n",
    "\n",
    "When these assumptions hold, we can check if the p-value of the different coefficients is significant as we know that their corresponding f-statistic follows a t-student distribution. Given a significance level of $\\alpha = 0.05$, we notice that both coefficients, `weight_as_lamb` and `growth_as_lamb`, are likely to be significant. However, observing that the fraction of variance explained by the model, $R^2 = \\frac{\\text{SSR}}{\\text{SST}} = 0.2228$, indicates that the fit of the model is not too good.\n",
    "\n",
    "It is interesting to note that `weight_as_lamb` has a negative coefficient, meaning ewes that where heavier as lambs tend to get lambs that are lighter, whereas ewes that had a higher daily growth rate tend to get heavier lambs."
   ]
  },
  {
   "cell_type": "markdown",
   "metadata": {},
   "source": [
    "# 4 Conclusion\n",
    "\n",
    "This report started with presenting three hypothesis, where the two first were tested with an ANOVA analysis. This analysis gave strong support for these hypothesis, hence it seems likely that both weight and growth seems to some extent to be determined by gender and number of siblings. This analysis also found significant differences in the growth rates between different years. For a sheep farmer, explaining these differences would be of high interest.\n",
    "\n",
    "Furthermore, the principle component analysis gave some insight into the how gender and number of siblings affect weight at different times of the season. It seemed to indicate that `weight_spring` is more determined by `num_siblings` and less by `gender`, whereas `growth` is to a greater extent determined by `gender`. However, no firm conclusions could be drawn from this analysis, only an indication of what could be interesting for further investigations. \n",
    "\n",
    "Finally, the results of the linear regression on `mean_weight` of the lambs of each individual ewe yielded results that were less significant than the ANOVA analysis, and the fit of the regression was not too good. Furthermore due to lack of data, this regression used only $n=37$ datapoints. Interestingly the results support falsifying the third hypothesis, that heavy ewes get heavy lambs, and indicates instead that ewes that were light in the fall get lambs that are heavier in the fall. However, the regression indicates that a high growth rate of the ewe yield high growth rate for the lambs."
   ]
  }
 ],
 "metadata": {
  "kernelspec": {
   "display_name": "R",
   "language": "R",
   "name": "ir"
  },
  "language_info": {
   "codemirror_mode": "r",
   "file_extension": ".r",
   "mimetype": "text/x-r-source",
   "name": "R",
   "pygments_lexer": "r",
   "version": "3.6.1"
  }
 },
 "nbformat": 4,
 "nbformat_minor": 4
}
